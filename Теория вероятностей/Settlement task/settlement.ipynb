{
 "cells": [
  {
   "cell_type": "code",
   "execution_count": 217,
   "metadata": {},
   "outputs": [],
   "source": [
    "import pandas as pd\n",
    "import numpy as np\n",
    "import scipy.stats as ss\n",
    "from matplotlib import pyplot as plt\n",
    "import seaborn as sns\n",
    "import math"
   ]
  },
  {
   "attachments": {},
   "cell_type": "markdown",
   "metadata": {},
   "source": [
    "Принадлежность выборки равномерному распределению"
   ]
  },
  {
   "attachments": {},
   "cell_type": "markdown",
   "metadata": {},
   "source": [
    "По критерию Колмогорова"
   ]
  },
  {
   "cell_type": "code",
   "execution_count": 218,
   "metadata": {},
   "outputs": [],
   "source": [
    "def kol_is_uniform(xs):\n",
    "\n",
    "    pval = ss.kstest(xs, 'uniform')[1] #Получение значения p-value при проверке гипотезы о принадлежности данного распределения равномерному\n",
    "\n",
    "    if pval < 0.05: #Утверждать принадлежность равномерному распределению c уровнем значимости 5%\n",
    "        return False, pval\n",
    "\n",
    "    return True, pval\n",
    "    "
   ]
  },
  {
   "attachments": {},
   "cell_type": "markdown",
   "metadata": {},
   "source": [
    "По критерию хи-квадрата Пирсона"
   ]
  },
  {
   "cell_type": "code",
   "execution_count": 219,
   "metadata": {},
   "outputs": [],
   "source": [
    "def pir_is_uniform(xs):\n",
    "    \n",
    "    freq = np.histogram(xs, 'sturges', (0, 1))[0] #Вычисление количества вхождений в интервалы по Стёрджесу\n",
    "    pval = ss.chisquare(freq)[1] #Получение значения p-value с использованием полученных вхождений\n",
    "    \n",
    "    if pval < 0.05: #Утверждать принадлежность равномерному распределению c уровнем значимости 5%\n",
    "        return False, pval\n",
    "\n",
    "    return True, pval"
   ]
  },
  {
   "attachments": {},
   "cell_type": "markdown",
   "metadata": {},
   "source": [
    "Рассчёт p-value по критерию Колмогорова"
   ]
  },
  {
   "cell_type": "code",
   "execution_count": 220,
   "metadata": {},
   "outputs": [],
   "source": [
    "def get_kolm_pval(xs):\n",
    "\n",
    "    st = sorted(set(xs))\n",
    "\n",
    "    fun = [xs.count(i) for i in st]  #Подсчет количества вхождений каждого элемента\n",
    "    fun = np.cumsum(fun)   #Количество вхождений элементов для каждого интервала\n",
    "    fun = [i / fun[-1] for i in fun] #Составление эмпирической функции распределения\n",
    "    fun.insert(0, 0)\n",
    "    st.insert(0, 0)\n",
    "    \n",
    "    ln = len(st)\n",
    "    st.append(1)\n",
    "\n",
    "    Dp = max([abs(fun[i] - st[i + 1])  for i in range(ln)]) #Нахождение супремума разностей эмпирической и теоретической функций\n",
    "    Dm = max([abs(fun[i] - st[i]) for i in range(ln)])\n",
    "    \n",
    "    y = max(Dp, Dm) * math.sqrt(len(xs))\n",
    "\n",
    "    pval = 0\n",
    "    for i in range(-100000, 1000000): #Нахождение pval для найденного y\n",
    "        pval += (-1) ** i * math.exp(-2 * (i ** 2) * y ** 2)\n",
    "\n",
    "    return 1 - pval"
   ]
  },
  {
   "attachments": {},
   "cell_type": "markdown",
   "metadata": {},
   "source": [
    "Рассчёт p-value по критерию хи-квадрат"
   ]
  },
  {
   "cell_type": "code",
   "execution_count": 221,
   "metadata": {},
   "outputs": [],
   "source": [
    "def get_pir_pval(xs):\n",
    "\n",
    "    f_obs = np.histogram(xs, 'sturges', (0, 1))[0] #Вычисление количества вхождений в интервалы по Стёрджесу\n",
    "    ln = len(f_obs)\n",
    "    sm = sum(f_obs)\n",
    "    \n",
    "    f_exp = np.array([sm / ln for i in range(ln)]) #Равномерное распределение, которое ожидается получить из данной выборки \n",
    "\n",
    "    stat = ((f_obs - f_exp) ** 2 / f_exp).sum() #Вычисление меры близости\n",
    "    pval = 1 - ss.chi2.cdf(stat, ln - 1)  #Вычисление p-value через функцию распределения хи-квадрат\n",
    "\n",
    "    return pval"
   ]
  },
  {
   "attachments": {},
   "cell_type": "markdown",
   "metadata": {},
   "source": [
    "Main"
   ]
  },
  {
   "cell_type": "code",
   "execution_count": 222,
   "metadata": {},
   "outputs": [
    {
     "name": "stdout",
     "output_type": "stream",
     "text": [
      "Распределение по критерию Колмогорова не относится к равномерному\n",
      "Распределение по критерию хи-квадрат Пирсона не относится к равномерному \n",
      "\n",
      "Значение p-value по критерию Колмогорова(scipy): 0.0003037176175121105\n",
      "Значение p-value по критерию Колмогорова(вручную): 0.0003725187596219648 \n",
      "\n",
      "Значение p-value по критерию хи-квадрат(scipy): 4.348561152705685e-05\n",
      "Значение p-value по критерию хи-квадрат(вручную): 4.3485611527005474e-05 \n",
      "\n",
      "Критическое значение для хи-квадрат при критерии 0.1: 13.36156613651173\n",
      "Критическое значение для хи-квадрат при критерии 0.01: 20.090235029663233\n",
      "Критическое значение для хи-квадрат при критерии 0.001: 26.12448155837614\n"
     ]
    },
    {
     "data": {
      "image/png": "[encoded data removed]",
      "text/plain": [
       "<Figure size 640x480 with 1 Axes>"
      ]
     },
     "metadata": {},
     "output_type": "display_data"
    }
   ],
   "source": [
    "xs = pd.read_csv('./Лейсле_Александр_Геннадьевич.csv')\n",
    "xs = sorted(list(xs.data))\n",
    "\n",
    "sns.histplot(x = xs, stat = 'density', bins = 'sturges', color = 'blue')\n",
    "plt.title('Гисторамма данной выборки')\n",
    "\n",
    "is_unif_kol, pvalKol = kol_is_uniform(xs)\n",
    "is_unif_pir, pvalPir = pir_is_uniform(xs)\n",
    "\n",
    "print('Распределение по критерию Колмогорова', end = ' ')\n",
    "if not is_unif_kol:\n",
    "     print('не', end = ' ')\n",
    "print('относится к равномерному')\n",
    "\n",
    "print('Распределение по критерию хи-квадрат Пирсона', end = ' ')\n",
    "if not is_unif_pir:\n",
    "     print('не', end = ' ')\n",
    "print('относится к равномерному', '\\n')\n",
    "\n",
    "print('Значение p-value по критерию Колмогорова(scipy):', pvalKol)\n",
    "print('Значение p-value по критерию Колмогорова(вручную):', get_kolm_pval(xs), '\\n')\n",
    "\n",
    "print('Значение p-value по критерию хи-квадрат(scipy):', pvalPir)\n",
    "print('Значение p-value по критерию хи-квадрат(вручную):', get_pir_pval(xs), '\\n')\n",
    "\n",
    "ln = len(np.histogram(xs, 'sturges', (0, 1))[0])\n",
    "print('Критическое значение для хи-квадрат при критерии 0.1:', ss.chi2.ppf(1 - 0.1, df = ln))\n",
    "print('Критическое значение для хи-квадрат при критерии 0.01:', ss.chi2.ppf(1 - 0.01, df = ln))\n",
    "print('Критическое значение для хи-квадрат при критерии 0.001:', ss.chi2.ppf(1 - 0.001, df = ln))\n"
   ]
  }
 ],
 "metadata": {
  "kernelspec": {
   "display_name": "Python 3",
   "language": "python",
   "name": "python3"
  },
  "language_info": {
   "codemirror_mode": {
    "name": "ipython",
    "version": 3
   },
   "file_extension": ".py",
   "mimetype": "text/x-python",
   "name": "python",
   "nbconvert_exporter": "python",
   "pygments_lexer": "ipython3",
   "version": "3.10.7"
  },
  "orig_nbformat": 4,
  "vscode": {
   "interpreter": {
    "hash": "af874b8d4f4459788df716e07a9b2cbb6aef8352bcd428451245bb55fab53f6a"
   }
  }
 },
 "nbformat": 4,
 "nbformat_minor": 2
}
